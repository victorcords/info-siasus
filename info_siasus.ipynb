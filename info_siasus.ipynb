{
  "nbformat": 4,
  "nbformat_minor": 0,
  "metadata": {
    "colab": {
      "provenance": []
    },
    "kernelspec": {
      "name": "ir",
      "display_name": "R"
    },
    "language_info": {
      "name": "R"
    }
  },
  "cells": [
    {
      "cell_type": "markdown",
      "source": [
        "## Introdução\n",
        "\n",
        "A extração e tratamento dos dados presentes nos bancos de dados do DATASUS podem fornecer informações precisas e orientar condutas e políticas públicas. O Sistema de Informações Ambulatoriais (SIA) apresenta uma estrutura e conjunto de dados que, agreagados da forma correta, podem ser úteis tanto cientificamente quanto estrategicamente, como Ferré et al. demonstrou e exemplificou métodos para extrair coortes dos bancos de dados do SIA do DATASUS (e de outros sistemas), o que torna possível a análise de diversos elementos, dentre eles, a análise da dispensação de medicamentos, quantitativo de usuários desses medicamentos e o valor gasto."
      ],
      "metadata": {
        "id": "guRV1BWI_j8j"
      }
    },
    {
      "cell_type": "markdown",
      "source": [
        "## Extração"
      ],
      "metadata": {
        "id": "5W31IKOwSfAq"
      }
    },
    {
      "cell_type": "code",
      "source": [
        "#=================[PACOTES]==================\n",
        "\n",
        "install.packages(\"devtools\") # Para instalar pacotes pelo Github\n",
        "devtools::install_github(\"rfsaldanha/microdatasus\") # Para manipular os bancos de dados\n",
        "install.packages(\"gsubfn\") # Para alterar dados no DataFrame\n",
        "install.packages(\"RCurl\") # Função getURL\n",
        "install.packages(\"stringr\") # lpad str_pad\n",
        "install.packages(\"readr\") # Para ler CSV diretamente do GitHub\n",
        "install.packages(\"forecast\") # Para ARIMA\n",
        "install.packages(\"tseries\") # Para regressão\n",
        "\n",
        "# Carregando os pacotes\n",
        "\n",
        "library(microdatasus)\n",
        "library(gsubfn)\n",
        "library(stringr)\n",
        "library(RCurl)\n",
        "library(readr)\n",
        "library(forecast)\n",
        "library(tseries)\n",
        "\n",
        "#============================================"
      ],
      "metadata": {
        "colab": {
          "base_uri": "https://localhost:8080/"
        },
        "collapsed": true,
        "id": "9UyMwldOShoi",
        "outputId": "5f3008e1-5702-44eb-d20b-545442c01d2d"
      },
      "execution_count": null,
      "outputs": [
        {
          "output_type": "stream",
          "name": "stderr",
          "text": [
            "Installing package into ‘/usr/local/lib/R/site-library’\n",
            "(as ‘lib’ is unspecified)\n",
            "\n",
            "Skipping install of 'microdatasus' from a github remote, the SHA1 (d59f8a5f) has not changed since last install.\n",
            "  Use `force = TRUE` to force installation\n",
            "\n",
            "Installing package into ‘/usr/local/lib/R/site-library’\n",
            "(as ‘lib’ is unspecified)\n",
            "\n",
            "Installing package into ‘/usr/local/lib/R/site-library’\n",
            "(as ‘lib’ is unspecified)\n",
            "\n",
            "Installing package into ‘/usr/local/lib/R/site-library’\n",
            "(as ‘lib’ is unspecified)\n",
            "\n",
            "Installing package into ‘/usr/local/lib/R/site-library’\n",
            "(as ‘lib’ is unspecified)\n",
            "\n",
            "Installing package into ‘/usr/local/lib/R/site-library’\n",
            "(as ‘lib’ is unspecified)\n",
            "\n",
            "Installing package into ‘/usr/local/lib/R/site-library’\n",
            "(as ‘lib’ is unspecified)\n",
            "\n",
            "also installing the dependencies ‘xts’, ‘TTR’, ‘quadprog’, ‘quantmod’, ‘fracdiff’, ‘lmtest’, ‘timeDate’, ‘tseries’, ‘urca’, ‘zoo’, ‘RcppArmadillo’\n",
            "\n",
            "\n",
            "Installing package into ‘/usr/local/lib/R/site-library’\n",
            "(as ‘lib’ is unspecified)\n",
            "\n",
            "Loading required package: proto\n",
            "\n",
            "Warning message:\n",
            "“no DISPLAY variable so Tk is not available”\n",
            "Registered S3 method overwritten by 'quantmod':\n",
            "  method            from\n",
            "  as.zoo.data.frame zoo \n",
            "\n"
          ]
        }
      ]
    },
    {
      "cell_type": "markdown",
      "source": [
        "O que será feito:\n",
        "\n",
        "1. Dados armazenados em arquivos `.dbc` no repositório FTP do DATASUS\n",
        "2. Download dos dados por meio do `microdatasus`\n",
        "3. Armazenamento temporário dos dados localmente\n",
        "4. Inclusão de variáveis selecionadas no dataframe de importação\n",
        "5. Filtrar o dataframe de acordo com CID-10 e SIGTAP\n",
        "6. Unir os bancos de dados do SIA-PA e SIA-AM"
      ],
      "metadata": {
        "id": "Y098nDD5XkZj"
      }
    },
    {
      "cell_type": "markdown",
      "source": [
        "### Extração DATASUS SIA-PA\n",
        "\n",
        "A função `fetch_datasus` é responsável pelo download de dados do site do DATASUS, criando um `data.frame` como resultado. O manual para a função está na [Wiki do projeto](https://github.com/rfsaldanha/microdatasus/wiki/fetch_datasus). Com a função, foi realizado o download do banco de dados de acordo com as variáveis permitidas pela função."
      ],
      "metadata": {
        "id": "ZQZ5-F3DeplG"
      }
    },
    {
      "cell_type": "code",
      "source": [
        "#=================[DADOS SIA-PA]=============\n",
        "\n",
        "siapa_go <- fetch_datasus(\n",
        "                       year_start = 2023, year_end = 2023,\n",
        "                       month_start = 11, month_end = 12,\n",
        "                       uf = \"GO\",\n",
        "                       information_system = \"SIA-PA\")\n",
        "\n",
        "#============================================"
      ],
      "metadata": {
        "colab": {
          "base_uri": "https://localhost:8080/"
        },
        "id": "CP6dpNUzVgs0",
        "outputId": "2c43aced-8d4f-48c3-8be7-482ae452a6c3"
      },
      "execution_count": null,
      "outputs": [
        {
          "output_type": "stream",
          "name": "stderr",
          "text": [
            "\u001b[36mℹ\u001b[39m Your local Internet connection seems to be ok.\n",
            "\n",
            "\u001b[36mℹ\u001b[39m DataSUS FTP server seems to be up and reachable.\n",
            "\n",
            "\u001b[36mℹ\u001b[39m Starting download...\n",
            "\n"
          ]
        }
      ]
    },
    {
      "cell_type": "markdown",
      "source": [
        "### Extração DATASUS SIA-AM\n",
        "\n",
        "O processo foi repetido para outro banco de dados de interesse."
      ],
      "metadata": {
        "id": "49ZBGs5LewYW"
      }
    },
    {
      "cell_type": "code",
      "source": [
        "#=================[DADOS SIA-AM]=============\n",
        "\n",
        "siaam_go <- fetch_datasus(\n",
        "                       year_start = 2023, year_end = 2023,\n",
        "                       month_start = 11, month_end = 12,\n",
        "                       uf = \"GO\",\n",
        "                       vars = c(\"AP_AUTORIZ\", \"AP_PRIPAL\", \"AP_CIDPRI\", \"AP_CNSPCN\"),\n",
        "                       information_system = \"SIA-AM\")\n",
        "\n",
        "#============================================"
      ],
      "metadata": {
        "colab": {
          "base_uri": "https://localhost:8080/"
        },
        "id": "0E7ZDD_7XQf3",
        "outputId": "834b2530-0969-4dd4-d9c6-82b044a50106"
      },
      "execution_count": null,
      "outputs": [
        {
          "output_type": "stream",
          "name": "stderr",
          "text": [
            "\u001b[36mℹ\u001b[39m Your local Internet connection seems to be ok.\n",
            "\n",
            "\u001b[36mℹ\u001b[39m DataSUS FTP server seems to be up and reachable.\n",
            "\n",
            "\u001b[36mℹ\u001b[39m Starting download...\n",
            "\n"
          ]
        }
      ]
    },
    {
      "cell_type": "markdown",
      "source": [
        "### Verificação da Extração\n",
        "\n",
        "O controle da ordem de manipulação dos arquivos segundo estado e mês é fundamental na carga.\n",
        "\n",
        "A função `expand.grid` é empregada para gerar as combinações de UF, ano e mês\n",
        "que integram o nome dos arquivos a serem manipulados."
      ],
      "metadata": {
        "id": "iz_7qtK8e2pY"
      }
    },
    {
      "cell_type": "code",
      "source": [
        "#=================[VERIFICAÇÃO]==============\n",
        "\n",
        "ano=23:23 # Igual em year_star e year_end\n",
        "mes=str_pad(11:12, 2, pad=\"0\") # Igual em month_start e month_end\n",
        "url=\"ftp://ftp.datasus.gov.br/dissemin/publicos/SIASUS/200801_/Dados/\"\n",
        "\n",
        "# Lista arquivos dbc do diretorio FTP\n",
        "aux <-\n",
        "  getURL(\n",
        "    url,\n",
        "    verbose = TRUE,\n",
        "    ftp.use.epsv = FALSE,\n",
        "    dirlistonly = TRUE,\n",
        "    crlf = TRUE\n",
        "  )\n",
        "\n",
        "listadbc=strsplit(aux, \"\\r*\\n\")[[1]]\n",
        "\n",
        "#length(listadbc) # Número de arquivos\n",
        "\n",
        "#listadbc[sample(1:length(listadbc),20, replace = TRUE)]\n",
        "\n",
        "uf='GO'\n",
        "\n",
        "aux=as.matrix(expand.grid(uf,ano,mes))\n",
        "ufaamm=sort(paste0(\n",
        "    aux[,1],\n",
        "    aux[,2],\n",
        "    aux[,3]\n",
        "))\n",
        "ufaamm\n",
        "\n",
        "#============================================"
      ],
      "metadata": {
        "colab": {
          "base_uri": "https://localhost:8080/",
          "height": 34
        },
        "id": "CSh291dH1TJ0",
        "outputId": "f57073a8-47cb-4b76-9f95-2e8059447da8"
      },
      "execution_count": null,
      "outputs": [
        {
          "output_type": "display_data",
          "data": {
            "text/html": [
              "<style>\n",
              ".list-inline {list-style: none; margin:0; padding: 0}\n",
              ".list-inline>li {display: inline-block}\n",
              ".list-inline>li:not(:last-child)::after {content: \"\\00b7\"; padding: 0 .5ex}\n",
              "</style>\n",
              "<ol class=list-inline><li>'GO2311'</li><li>'GO2312'</li></ol>\n"
            ],
            "text/markdown": "1. 'GO2311'\n2. 'GO2312'\n\n\n",
            "text/latex": "\\begin{enumerate*}\n\\item 'GO2311'\n\\item 'GO2312'\n\\end{enumerate*}\n",
            "text/plain": [
              "[1] \"GO2311\" \"GO2312\""
            ]
          },
          "metadata": {}
        }
      ]
    },
    {
      "cell_type": "markdown",
      "source": [
        "## Processamento PA\n",
        "\n",
        "Para o processamento, primeiro foram definidos os filtos com base no CID-10 e o procedimento descrito no SIGTAP. Após isso, foram criadas tabelas vazias no formato `data.frame` contendo as variáveis desejadas. As variáveis desejadas foram analisadas e selecionadas a partir do [dicionário de dados](ftp://ftp.datasus.gov.br/dissemin/publicos/SIASUS/200801_/Doc/.) do Sistema de Informações Ambulatoriais do SUS.\n",
        "\n",
        "Eventualmente arquivos do mês podem ultrapassar cerca de dois milhões de registros e, dessa forma, são fragmentados e mais de um arquivo. Por exemplo, *PASP2301a.dbc*, *PASP2301b.dbc* e *PASP2301c.dbc*. Por isso é utilizada a estrutura de repetição `for`.\n",
        "\n",
        "Assim, os filtros de CID-10 e procedimento SIGTAP foram usados logo após a carga para reduzir a ocupação na memória e, portanto, o recurso computacional necessário.\n",
        "\n",
        "Foram estabelecidos filtros segundo a doença selecionada em `PA_CIDPRI %in% cids` e procedimento em `PA_PROC_ID %in% sigtap`.\n",
        "\n",
        "Adicionalmente, o vetor de atributos foi aplicado a fim de desprezar os demais."
      ],
      "metadata": {
        "id": "dQCtD_G8e_8z"
      }
    },
    {
      "cell_type": "code",
      "source": [
        "#=================[FILTROS]=================\n",
        "\n",
        "cids = c(\n",
        "  \"K500\",\n",
        "  \"K501\",\n",
        "  \"K508\"\n",
        ") # CID-10\n",
        "\n",
        "sigtap = c(\n",
        "  \"0604380011\", # ADALIMUMABE 40 MG INJETÁVEL (FRASCO AMPOLA)\n",
        "  \"0604380127\", # ADALIMUMABE 40 MG INJETAVEL (POR SERINGA PREENCHIDA)\n",
        "  \"0604380135\", # ADALIMUMABE 40 MG INJETÁVEL (POR SERINGA PREENCHIDA) (BIOSSIMILAR B)\n",
        "  \"0604380046\", # INFLIXIMABE 10 MG/ML INJETAVEL (POR FRASCO-AMPOLA COM 10 ML)\n",
        "  \"0604380054\", # INFLIXIMABE 10 MG/ML INJETAVEL (POR FRASCO-AMPOLA COM 10 ML)\n",
        "  \"0604380119\", # INFLIXIMABE 10 MG /ML INJETÁVEL (POR FRASCO-AMPOLA COM 10 ML) (BIOSSIMILAR A)\n",
        "  \"0604380070\"  # CERTOLIZUMABE PEGOL 200 MG/ML INJETÁVEL (POR SERINGA PREENCHIDA)\n",
        ") # Biológicos\n",
        "\n",
        "#=================[PROCESSAMENTO-PA]========\n",
        "\n",
        "pa_estrutura=data.frame(\n",
        "  PA_AUTORIZ = numeric(),\n",
        "  PA_CMP = numeric(),\n",
        "  PA_MVM = numeric(),\n",
        "  PA_CIDPRI = character(),\n",
        "  PA_CIDSEC = character(),\n",
        "  PA_PROC_ID = character(),\n",
        "  PA_QTDAPR = numeric(),\n",
        "  PA_SEXO = character(),\n",
        "  PA_IDADE = numeric(),\n",
        "  PA_MUNPCN = numeric(),\n",
        "  uf_processamento  = character()\n",
        ")\n",
        "\n",
        "# Filtra apenas arquivos contendo o respectivo UFAAMM\n",
        "\n",
        "listadbc_pa=subset(\n",
        "      listadbc,\n",
        "      grepl(paste0(\"^PA\",ufaamm[i]), listadbc)\n",
        "    )\n",
        "\n",
        "pa=pa_estrutura\n",
        "\n",
        "# Incorpora o arquivo PA\n",
        "\n",
        "    for (j in 1:length(listadbc_pa)) {\n",
        "      aux=subset(siapa_go[,c(\n",
        "          \"PA_AUTORIZ\",\"PA_CMP\",\"PA_MVM\" ,\"PA_CIDPRI\", \"PA_CIDSEC\",\n",
        "          \"PA_PROC_ID\", \"PA_QTDAPR\",\"PA_SEXO\", \"PA_IDADE\", \"PA_MUNPCN\"\n",
        "        )],\n",
        "        PA_CIDPRI %in% cids &\n",
        "        PA_PROC_ID %in% sigtap\n",
        "      )\n",
        "\n",
        "      if (nrow(aux)==0) {\n",
        "        aux=pa\n",
        "      } else {\n",
        "        aux$uf_processamento = uf\n",
        "        pa=rbind(pa,aux)\n",
        "      }\n",
        "\n",
        "    }\n",
        "\n",
        "head(pa)\n",
        "\n",
        "#============================================"
      ],
      "metadata": {
        "colab": {
          "base_uri": "https://localhost:8080/",
          "height": 286
        },
        "id": "cVAUmRcqgQdN",
        "outputId": "9d52ce3f-ed02-4088-94f3-09929172bc71"
      },
      "execution_count": null,
      "outputs": [
        {
          "output_type": "display_data",
          "data": {
            "text/html": [
              "<table class=\"dataframe\">\n",
              "<caption>A data.frame: 6 × 11</caption>\n",
              "<thead>\n",
              "\t<tr><th></th><th scope=col>PA_AUTORIZ</th><th scope=col>PA_CMP</th><th scope=col>PA_MVM</th><th scope=col>PA_CIDPRI</th><th scope=col>PA_CIDSEC</th><th scope=col>PA_PROC_ID</th><th scope=col>PA_QTDAPR</th><th scope=col>PA_SEXO</th><th scope=col>PA_IDADE</th><th scope=col>PA_MUNPCN</th><th scope=col>uf_processamento</th></tr>\n",
              "\t<tr><th></th><th scope=col>&lt;chr&gt;</th><th scope=col>&lt;chr&gt;</th><th scope=col>&lt;chr&gt;</th><th scope=col>&lt;chr&gt;</th><th scope=col>&lt;chr&gt;</th><th scope=col>&lt;chr&gt;</th><th scope=col>&lt;int&gt;</th><th scope=col>&lt;chr&gt;</th><th scope=col>&lt;chr&gt;</th><th scope=col>&lt;chr&gt;</th><th scope=col>&lt;chr&gt;</th></tr>\n",
              "</thead>\n",
              "<tbody>\n",
              "\t<tr><th scope=row>483489...483489</th><td>5223203448661</td><td>202311</td><td>202311</td><td>K500</td><td>0000</td><td>0604380054</td><td>5</td><td>M</td><td>019</td><td>522045</td><td>GO</td></tr>\n",
              "\t<tr><th scope=row>483491...483491</th><td>5223203476447</td><td>202311</td><td>202311</td><td>K500</td><td>0000</td><td>0604380054</td><td>4</td><td>M</td><td>059</td><td>520110</td><td>GO</td></tr>\n",
              "\t<tr><th scope=row>483492...483492</th><td>5223203493057</td><td>202311</td><td>202311</td><td>K500</td><td>0000</td><td>0604380054</td><td>4</td><td>F</td><td>067</td><td>521890</td><td>GO</td></tr>\n",
              "\t<tr><th scope=row>483493...483493</th><td>5223204359263</td><td>202311</td><td>202311</td><td>K501</td><td>0000</td><td>0604380054</td><td>0</td><td>M</td><td>030</td><td>521190</td><td>GO</td></tr>\n",
              "\t<tr><th scope=row>483495...483495</th><td>5223204340838</td><td>202311</td><td>202311</td><td>K500</td><td>0000</td><td>0604380054</td><td>2</td><td>M</td><td>011</td><td>520870</td><td>GO</td></tr>\n",
              "\t<tr><th scope=row>483496...483496</th><td>5223203515948</td><td>202311</td><td>202311</td><td>K500</td><td>0000</td><td>0604380054</td><td>4</td><td>M</td><td>057</td><td>520110</td><td>GO</td></tr>\n",
              "</tbody>\n",
              "</table>\n"
            ],
            "text/markdown": "\nA data.frame: 6 × 11\n\n| <!--/--> | PA_AUTORIZ &lt;chr&gt; | PA_CMP &lt;chr&gt; | PA_MVM &lt;chr&gt; | PA_CIDPRI &lt;chr&gt; | PA_CIDSEC &lt;chr&gt; | PA_PROC_ID &lt;chr&gt; | PA_QTDAPR &lt;int&gt; | PA_SEXO &lt;chr&gt; | PA_IDADE &lt;chr&gt; | PA_MUNPCN &lt;chr&gt; | uf_processamento &lt;chr&gt; |\n|---|---|---|---|---|---|---|---|---|---|---|---|\n| 483489...483489 | 5223203448661 | 202311 | 202311 | K500 | 0000 | 0604380054 | 5 | M | 019 | 522045 | GO |\n| 483491...483491 | 5223203476447 | 202311 | 202311 | K500 | 0000 | 0604380054 | 4 | M | 059 | 520110 | GO |\n| 483492...483492 | 5223203493057 | 202311 | 202311 | K500 | 0000 | 0604380054 | 4 | F | 067 | 521890 | GO |\n| 483493...483493 | 5223204359263 | 202311 | 202311 | K501 | 0000 | 0604380054 | 0 | M | 030 | 521190 | GO |\n| 483495...483495 | 5223204340838 | 202311 | 202311 | K500 | 0000 | 0604380054 | 2 | M | 011 | 520870 | GO |\n| 483496...483496 | 5223203515948 | 202311 | 202311 | K500 | 0000 | 0604380054 | 4 | M | 057 | 520110 | GO |\n\n",
            "text/latex": "A data.frame: 6 × 11\n\\begin{tabular}{r|lllllllllll}\n  & PA\\_AUTORIZ & PA\\_CMP & PA\\_MVM & PA\\_CIDPRI & PA\\_CIDSEC & PA\\_PROC\\_ID & PA\\_QTDAPR & PA\\_SEXO & PA\\_IDADE & PA\\_MUNPCN & uf\\_processamento\\\\\n  & <chr> & <chr> & <chr> & <chr> & <chr> & <chr> & <int> & <chr> & <chr> & <chr> & <chr>\\\\\n\\hline\n\t483489...483489 & 5223203448661 & 202311 & 202311 & K500 & 0000 & 0604380054 & 5 & M & 019 & 522045 & GO\\\\\n\t483491...483491 & 5223203476447 & 202311 & 202311 & K500 & 0000 & 0604380054 & 4 & M & 059 & 520110 & GO\\\\\n\t483492...483492 & 5223203493057 & 202311 & 202311 & K500 & 0000 & 0604380054 & 4 & F & 067 & 521890 & GO\\\\\n\t483493...483493 & 5223204359263 & 202311 & 202311 & K501 & 0000 & 0604380054 & 0 & M & 030 & 521190 & GO\\\\\n\t483495...483495 & 5223204340838 & 202311 & 202311 & K500 & 0000 & 0604380054 & 2 & M & 011 & 520870 & GO\\\\\n\t483496...483496 & 5223203515948 & 202311 & 202311 & K500 & 0000 & 0604380054 & 4 & M & 057 & 520110 & GO\\\\\n\\end{tabular}\n",
            "text/plain": [
              "                PA_AUTORIZ    PA_CMP PA_MVM PA_CIDPRI PA_CIDSEC PA_PROC_ID\n",
              "483489...483489 5223203448661 202311 202311 K500      0000      0604380054\n",
              "483491...483491 5223203476447 202311 202311 K500      0000      0604380054\n",
              "483492...483492 5223203493057 202311 202311 K500      0000      0604380054\n",
              "483493...483493 5223204359263 202311 202311 K501      0000      0604380054\n",
              "483495...483495 5223204340838 202311 202311 K500      0000      0604380054\n",
              "483496...483496 5223203515948 202311 202311 K500      0000      0604380054\n",
              "                PA_QTDAPR PA_SEXO PA_IDADE PA_MUNPCN uf_processamento\n",
              "483489...483489 5         M       019      522045    GO              \n",
              "483491...483491 4         M       059      520110    GO              \n",
              "483492...483492 4         F       067      521890    GO              \n",
              "483493...483493 0         M       030      521190    GO              \n",
              "483495...483495 2         M       011      520870    GO              \n",
              "483496...483496 4         M       057      520110    GO              "
            ]
          },
          "metadata": {}
        }
      ]
    },
    {
      "cell_type": "markdown",
      "source": [
        "## Processamento AM e união com PA\n",
        "\n",
        "Por meio do número de autorização, em geral, **PA_AUTORIZ** ou **AP_AUTORIZ**, é possível completar o arquivo principal. A tarefa é fundamental para computar o número de usuários com quantidade aprovada de dado procedimento, sobretudo a partir do arquivo de medicamentos de prefixo AM.\n",
        "\n",
        "A fim de agilizar o processamento, os caracteres especiais do Cartão Nacional de Saúde (CNS) criptografado são substituídos por números.\n",
        "\n",
        "A junção foi realizada segundo código da autorização. Note a incorporação do atributo **AP_CNSPCN**. Se mais atributos forem necessários basta incorporar ao vetor do arquivo AM.\n"
      ],
      "metadata": {
        "id": "rTAvSlmfPJtn"
      }
    },
    {
      "cell_type": "code",
      "source": [
        "#=================[PROCESSAMENTO-AM]========\n",
        "\n",
        "am_estrutura=data.frame(\n",
        "  AP_AUTORIZ = numeric(),\n",
        "  AP_PRIPAL = character(),\n",
        "  AP_CIDPRI = character(),\n",
        "  AP_CNSPCN = character()\n",
        ")\n",
        "\n",
        "# Filtra apenas arquivos contendo o respectivo UFAAMM\n",
        "\n",
        "listadbc_am=subset(\n",
        "      listadbc,\n",
        "      grepl(paste0(\"^AM\",ufaamm[i]), listadbc)\n",
        "    )\n",
        "\n",
        "\n",
        "am=am_estrutura\n",
        "\n",
        "# Incorpora o arquivo AM\n",
        "\n",
        "    if (length(listadbc_am) > 0) {\n",
        "    for (j in 1:length(listadbc_am)) {\n",
        "      aux=subset(siaam_go[,c(\n",
        "          \"AP_AUTORIZ\", \"AP_PRIPAL\",\n",
        "          \"AP_CIDPRI\",  \"AP_CNSPCN\"\n",
        "        )],\n",
        "        AP_CIDPRI %in% cids &\n",
        "        AP_PRIPAL %in% sigtap\n",
        "      )\n",
        "      am=rbind(am,aux)\n",
        "\n",
        "    }\n",
        "\n",
        "#=================[CARACTERES]===============\n",
        "\n",
        "      am2=unique(am[,c(\"AP_AUTORIZ\",\"AP_CNSPCN\")])\n",
        "\n",
        "      am2$AP_CNSPCN=gsubfn(\".\",\n",
        "                         list(\"{\" = \"0\", \"}\" = \"9\", \"~\" = \"5\",\n",
        "                              \"\\177\" = \"7\", \"Ç\" = \"6\", \"ä\" = \"8\",\n",
        "                              \"ü\" = \"4\", \"é\" = \"1\", \"|\" = \"2\", \"â\" = \"3\"\n",
        "                              ),\n",
        "                         iconv(am2$AP_CNSPCN, \"CP861\", \"UTF-8\")\n",
        "                         )\n",
        "\n",
        "#=================[PA+AM]====================\n",
        "\n",
        "      aux = merge(\n",
        "        pa, am2,\n",
        "        by.x=c(\"PA_AUTORIZ\"), # Possibilita a união\n",
        "        by.y=c(\"AP_AUTORIZ\"), # Possibilita a união\n",
        "        all.x = TRUE\n",
        "        )\n",
        "    } else {\n",
        "      aux=pa\n",
        "      aux$AP_CNSPCN = NA\n",
        "    }\n",
        "\n",
        "paam_estrutura=data.frame(\n",
        "    PA_AUTORIZ = numeric(),\n",
        "    PA_CMP = numeric(),\n",
        "    PA_MVM = numeric(),\n",
        "    PA_CIDPRI = character(),\n",
        "    PA_CIDSEC = character(),\n",
        "    PA_PROC_ID = character(),\n",
        "    PA_QTDAPR = numeric(),\n",
        "    PA_SEXO = character(),\n",
        "    PA_IDADE = numeric(),\n",
        "    PA_MUNPCN = numeric(),\n",
        "    uf_processamento  = character(),\n",
        "    AP_CNSPCN = character()\n",
        ")\n",
        "\n",
        "paam=paam_estrutura\n",
        "paam=rbind(paam,aux)\n",
        "head(paam)\n",
        "\n",
        "#============================================\n"
      ],
      "metadata": {
        "colab": {
          "base_uri": "https://localhost:8080/",
          "height": 286
        },
        "id": "4LDAVGgsnOgi",
        "outputId": "86899ba3-0095-4c6b-f107-b397cbf0c2a6"
      },
      "execution_count": null,
      "outputs": [
        {
          "output_type": "display_data",
          "data": {
            "text/html": [
              "<table class=\"dataframe\">\n",
              "<caption>A data.frame: 6 × 12</caption>\n",
              "<thead>\n",
              "\t<tr><th></th><th scope=col>PA_AUTORIZ</th><th scope=col>PA_CMP</th><th scope=col>PA_MVM</th><th scope=col>PA_CIDPRI</th><th scope=col>PA_CIDSEC</th><th scope=col>PA_PROC_ID</th><th scope=col>PA_QTDAPR</th><th scope=col>PA_SEXO</th><th scope=col>PA_IDADE</th><th scope=col>PA_MUNPCN</th><th scope=col>uf_processamento</th><th scope=col>AP_CNSPCN</th></tr>\n",
              "\t<tr><th></th><th scope=col>&lt;chr&gt;</th><th scope=col>&lt;chr&gt;</th><th scope=col>&lt;chr&gt;</th><th scope=col>&lt;chr&gt;</th><th scope=col>&lt;chr&gt;</th><th scope=col>&lt;chr&gt;</th><th scope=col>&lt;int&gt;</th><th scope=col>&lt;chr&gt;</th><th scope=col>&lt;chr&gt;</th><th scope=col>&lt;chr&gt;</th><th scope=col>&lt;chr&gt;</th><th scope=col>&lt;chr&gt;</th></tr>\n",
              "</thead>\n",
              "<tbody>\n",
              "\t<tr><th scope=row>1</th><td>5223202118596</td><td>202311</td><td>202311</td><td>K500</td><td>0000</td><td>0604380054</td><td>0</td><td>M</td><td>038</td><td>521850</td><td>GO</td><td>100008039594104</td></tr>\n",
              "\t<tr><th scope=row>2</th><td>5223202126538</td><td>202311</td><td>202311</td><td>K500</td><td>0000</td><td>0604380054</td><td>0</td><td>M</td><td>042</td><td>521880</td><td>GO</td><td>109706638936091</td></tr>\n",
              "\t<tr><th scope=row>3</th><td>5223202127605</td><td>202311</td><td>202311</td><td>K508</td><td>0000</td><td>0604380119</td><td>5</td><td>M</td><td>027</td><td>520860</td><td>GO</td><td>105206489989080</td></tr>\n",
              "\t<tr><th scope=row>4</th><td>5223202149209</td><td>202311</td><td>202311</td><td>K500</td><td>0000</td><td>0604380119</td><td>0</td><td>M</td><td>044</td><td>520410</td><td>GO</td><td>100703884038076</td></tr>\n",
              "\t<tr><th scope=row>5</th><td>5223202150782</td><td>202311</td><td>202311</td><td>K508</td><td>0000</td><td>0604380054</td><td>0</td><td>M</td><td>023</td><td>520870</td><td>GO</td><td>383007395806405</td></tr>\n",
              "\t<tr><th scope=row>6</th><td>5223202151508</td><td>202311</td><td>202311</td><td>K500</td><td>0000</td><td>0604380119</td><td>3</td><td>M</td><td>016</td><td>520110</td><td>GO</td><td>102900033460229</td></tr>\n",
              "</tbody>\n",
              "</table>\n"
            ],
            "text/markdown": "\nA data.frame: 6 × 12\n\n| <!--/--> | PA_AUTORIZ &lt;chr&gt; | PA_CMP &lt;chr&gt; | PA_MVM &lt;chr&gt; | PA_CIDPRI &lt;chr&gt; | PA_CIDSEC &lt;chr&gt; | PA_PROC_ID &lt;chr&gt; | PA_QTDAPR &lt;int&gt; | PA_SEXO &lt;chr&gt; | PA_IDADE &lt;chr&gt; | PA_MUNPCN &lt;chr&gt; | uf_processamento &lt;chr&gt; | AP_CNSPCN &lt;chr&gt; |\n|---|---|---|---|---|---|---|---|---|---|---|---|---|\n| 1 | 5223202118596 | 202311 | 202311 | K500 | 0000 | 0604380054 | 0 | M | 038 | 521850 | GO | 100008039594104 |\n| 2 | 5223202126538 | 202311 | 202311 | K500 | 0000 | 0604380054 | 0 | M | 042 | 521880 | GO | 109706638936091 |\n| 3 | 5223202127605 | 202311 | 202311 | K508 | 0000 | 0604380119 | 5 | M | 027 | 520860 | GO | 105206489989080 |\n| 4 | 5223202149209 | 202311 | 202311 | K500 | 0000 | 0604380119 | 0 | M | 044 | 520410 | GO | 100703884038076 |\n| 5 | 5223202150782 | 202311 | 202311 | K508 | 0000 | 0604380054 | 0 | M | 023 | 520870 | GO | 383007395806405 |\n| 6 | 5223202151508 | 202311 | 202311 | K500 | 0000 | 0604380119 | 3 | M | 016 | 520110 | GO | 102900033460229 |\n\n",
            "text/latex": "A data.frame: 6 × 12\n\\begin{tabular}{r|llllllllllll}\n  & PA\\_AUTORIZ & PA\\_CMP & PA\\_MVM & PA\\_CIDPRI & PA\\_CIDSEC & PA\\_PROC\\_ID & PA\\_QTDAPR & PA\\_SEXO & PA\\_IDADE & PA\\_MUNPCN & uf\\_processamento & AP\\_CNSPCN\\\\\n  & <chr> & <chr> & <chr> & <chr> & <chr> & <chr> & <int> & <chr> & <chr> & <chr> & <chr> & <chr>\\\\\n\\hline\n\t1 & 5223202118596 & 202311 & 202311 & K500 & 0000 & 0604380054 & 0 & M & 038 & 521850 & GO & 100008039594104\\\\\n\t2 & 5223202126538 & 202311 & 202311 & K500 & 0000 & 0604380054 & 0 & M & 042 & 521880 & GO & 109706638936091\\\\\n\t3 & 5223202127605 & 202311 & 202311 & K508 & 0000 & 0604380119 & 5 & M & 027 & 520860 & GO & 105206489989080\\\\\n\t4 & 5223202149209 & 202311 & 202311 & K500 & 0000 & 0604380119 & 0 & M & 044 & 520410 & GO & 100703884038076\\\\\n\t5 & 5223202150782 & 202311 & 202311 & K508 & 0000 & 0604380054 & 0 & M & 023 & 520870 & GO & 383007395806405\\\\\n\t6 & 5223202151508 & 202311 & 202311 & K500 & 0000 & 0604380119 & 3 & M & 016 & 520110 & GO & 102900033460229\\\\\n\\end{tabular}\n",
            "text/plain": [
              "  PA_AUTORIZ    PA_CMP PA_MVM PA_CIDPRI PA_CIDSEC PA_PROC_ID PA_QTDAPR PA_SEXO\n",
              "1 5223202118596 202311 202311 K500      0000      0604380054 0         M      \n",
              "2 5223202126538 202311 202311 K500      0000      0604380054 0         M      \n",
              "3 5223202127605 202311 202311 K508      0000      0604380119 5         M      \n",
              "4 5223202149209 202311 202311 K500      0000      0604380119 0         M      \n",
              "5 5223202150782 202311 202311 K508      0000      0604380054 0         M      \n",
              "6 5223202151508 202311 202311 K500      0000      0604380119 3         M      \n",
              "  PA_IDADE PA_MUNPCN uf_processamento AP_CNSPCN      \n",
              "1 038      521850    GO               100008039594104\n",
              "2 042      521880    GO               109706638936091\n",
              "3 027      520860    GO               105206489989080\n",
              "4 044      520410    GO               100703884038076\n",
              "5 023      520870    GO               383007395806405\n",
              "6 016      520110    GO               102900033460229"
            ]
          },
          "metadata": {}
        }
      ]
    },
    {
      "cell_type": "markdown",
      "source": [
        "## Exportar CSV\n",
        "\n",
        " Finalmente, foi obtido o `data.frame` com todas variáveis de interesse adicionadas e filtradas de acordo com os filtros prévios. O resultado foi exportado no formato `.csv` para posterior modelagem e análise dos dados."
      ],
      "metadata": {
        "id": "GdxjoqwUghIy"
      }
    },
    {
      "cell_type": "code",
      "source": [
        "#=================[CSV]======================\n",
        "\n",
        "write.csv(paam,paste0(\"sia_pa_\",uf,\".csv\"))\n",
        "\n",
        "#============================================"
      ],
      "metadata": {
        "id": "iIWaAuYpzOnF"
      },
      "execution_count": null,
      "outputs": []
    },
    {
      "cell_type": "markdown",
      "source": [
        "## Modelagem dos Dados"
      ],
      "metadata": {
        "id": "MzDJMPV0hnGa"
      }
    },
    {
      "cell_type": "markdown",
      "source": [
        "### Agregação anual para avaliação da quantidade aprovada e número de usuários\n",
        "\n",
        "O arquivo .csv gerado foi, então, carregado para a análise. Foi gerada a coluna **ano**, a partir dos 4 primeiros dígitos da coluna **PA_CMP**."
      ],
      "metadata": {
        "id": "7XYpKZEuReAE"
      }
    },
    {
      "cell_type": "code",
      "source": [
        "#=================[CARREGAR CSV]=============\n",
        "\n",
        "options(scipen=999) # Para evitar notação científica\n",
        "paam_atendimento=read.csv(\"/content/sia_pa_GO.csv\") # Caminho para o .csv\n",
        "paam_atendimento$ano=substr(paam_atendimento$PA_CMP,1,4)\n",
        "head(paam_atendimento)\n",
        "\n",
        "#============================================"
      ],
      "metadata": {
        "colab": {
          "base_uri": "https://localhost:8080/",
          "height": 286
        },
        "id": "94etCAOCYMTn",
        "outputId": "d87e6b2a-028f-4c9c-aeec-1ede48613c7f"
      },
      "execution_count": null,
      "outputs": [
        {
          "output_type": "display_data",
          "data": {
            "text/html": [
              "<table class=\"dataframe\">\n",
              "<caption>A data.frame: 6 × 14</caption>\n",
              "<thead>\n",
              "\t<tr><th></th><th scope=col>X</th><th scope=col>PA_AUTORIZ</th><th scope=col>PA_CMP</th><th scope=col>PA_MVM</th><th scope=col>PA_CIDPRI</th><th scope=col>PA_CIDSEC</th><th scope=col>PA_PROC_ID</th><th scope=col>PA_QTDAPR</th><th scope=col>PA_SEXO</th><th scope=col>PA_IDADE</th><th scope=col>PA_MUNPCN</th><th scope=col>uf_processamento</th><th scope=col>AP_CNSPCN</th><th scope=col>ano</th></tr>\n",
              "\t<tr><th></th><th scope=col>&lt;int&gt;</th><th scope=col>&lt;dbl&gt;</th><th scope=col>&lt;int&gt;</th><th scope=col>&lt;int&gt;</th><th scope=col>&lt;chr&gt;</th><th scope=col>&lt;int&gt;</th><th scope=col>&lt;int&gt;</th><th scope=col>&lt;int&gt;</th><th scope=col>&lt;chr&gt;</th><th scope=col>&lt;int&gt;</th><th scope=col>&lt;int&gt;</th><th scope=col>&lt;chr&gt;</th><th scope=col>&lt;dbl&gt;</th><th scope=col>&lt;chr&gt;</th></tr>\n",
              "</thead>\n",
              "<tbody>\n",
              "\t<tr><th scope=row>1</th><td>1</td><td>5223202118596</td><td>202311</td><td>202311</td><td>K500</td><td>0</td><td>604380054</td><td>0</td><td>M</td><td>38</td><td>521850</td><td>GO</td><td>100008039594104</td><td>2023</td></tr>\n",
              "\t<tr><th scope=row>2</th><td>2</td><td>5223202126538</td><td>202311</td><td>202311</td><td>K500</td><td>0</td><td>604380054</td><td>0</td><td>M</td><td>42</td><td>521880</td><td>GO</td><td>109706638936091</td><td>2023</td></tr>\n",
              "\t<tr><th scope=row>3</th><td>3</td><td>5223202127605</td><td>202311</td><td>202311</td><td>K508</td><td>0</td><td>604380119</td><td>5</td><td>M</td><td>27</td><td>520860</td><td>GO</td><td>105206489989080</td><td>2023</td></tr>\n",
              "\t<tr><th scope=row>4</th><td>4</td><td>5223202149209</td><td>202311</td><td>202311</td><td>K500</td><td>0</td><td>604380119</td><td>0</td><td>M</td><td>44</td><td>520410</td><td>GO</td><td>100703884038076</td><td>2023</td></tr>\n",
              "\t<tr><th scope=row>5</th><td>5</td><td>5223202150782</td><td>202311</td><td>202311</td><td>K508</td><td>0</td><td>604380054</td><td>0</td><td>M</td><td>23</td><td>520870</td><td>GO</td><td>383007395806405</td><td>2023</td></tr>\n",
              "\t<tr><th scope=row>6</th><td>6</td><td>5223202151508</td><td>202311</td><td>202311</td><td>K500</td><td>0</td><td>604380119</td><td>3</td><td>M</td><td>16</td><td>520110</td><td>GO</td><td>102900033460229</td><td>2023</td></tr>\n",
              "</tbody>\n",
              "</table>\n"
            ],
            "text/markdown": "\nA data.frame: 6 × 14\n\n| <!--/--> | X &lt;int&gt; | PA_AUTORIZ &lt;dbl&gt; | PA_CMP &lt;int&gt; | PA_MVM &lt;int&gt; | PA_CIDPRI &lt;chr&gt; | PA_CIDSEC &lt;int&gt; | PA_PROC_ID &lt;int&gt; | PA_QTDAPR &lt;int&gt; | PA_SEXO &lt;chr&gt; | PA_IDADE &lt;int&gt; | PA_MUNPCN &lt;int&gt; | uf_processamento &lt;chr&gt; | AP_CNSPCN &lt;dbl&gt; | ano &lt;chr&gt; |\n|---|---|---|---|---|---|---|---|---|---|---|---|---|---|---|\n| 1 | 1 | 5223202118596 | 202311 | 202311 | K500 | 0 | 604380054 | 0 | M | 38 | 521850 | GO | 100008039594104 | 2023 |\n| 2 | 2 | 5223202126538 | 202311 | 202311 | K500 | 0 | 604380054 | 0 | M | 42 | 521880 | GO | 109706638936091 | 2023 |\n| 3 | 3 | 5223202127605 | 202311 | 202311 | K508 | 0 | 604380119 | 5 | M | 27 | 520860 | GO | 105206489989080 | 2023 |\n| 4 | 4 | 5223202149209 | 202311 | 202311 | K500 | 0 | 604380119 | 0 | M | 44 | 520410 | GO | 100703884038076 | 2023 |\n| 5 | 5 | 5223202150782 | 202311 | 202311 | K508 | 0 | 604380054 | 0 | M | 23 | 520870 | GO | 383007395806405 | 2023 |\n| 6 | 6 | 5223202151508 | 202311 | 202311 | K500 | 0 | 604380119 | 3 | M | 16 | 520110 | GO | 102900033460229 | 2023 |\n\n",
            "text/latex": "A data.frame: 6 × 14\n\\begin{tabular}{r|llllllllllllll}\n  & X & PA\\_AUTORIZ & PA\\_CMP & PA\\_MVM & PA\\_CIDPRI & PA\\_CIDSEC & PA\\_PROC\\_ID & PA\\_QTDAPR & PA\\_SEXO & PA\\_IDADE & PA\\_MUNPCN & uf\\_processamento & AP\\_CNSPCN & ano\\\\\n  & <int> & <dbl> & <int> & <int> & <chr> & <int> & <int> & <int> & <chr> & <int> & <int> & <chr> & <dbl> & <chr>\\\\\n\\hline\n\t1 & 1 & 5223202118596 & 202311 & 202311 & K500 & 0 & 604380054 & 0 & M & 38 & 521850 & GO & 100008039594104 & 2023\\\\\n\t2 & 2 & 5223202126538 & 202311 & 202311 & K500 & 0 & 604380054 & 0 & M & 42 & 521880 & GO & 109706638936091 & 2023\\\\\n\t3 & 3 & 5223202127605 & 202311 & 202311 & K508 & 0 & 604380119 & 5 & M & 27 & 520860 & GO & 105206489989080 & 2023\\\\\n\t4 & 4 & 5223202149209 & 202311 & 202311 & K500 & 0 & 604380119 & 0 & M & 44 & 520410 & GO & 100703884038076 & 2023\\\\\n\t5 & 5 & 5223202150782 & 202311 & 202311 & K508 & 0 & 604380054 & 0 & M & 23 & 520870 & GO & 383007395806405 & 2023\\\\\n\t6 & 6 & 5223202151508 & 202311 & 202311 & K500 & 0 & 604380119 & 3 & M & 16 & 520110 & GO & 102900033460229 & 2023\\\\\n\\end{tabular}\n",
            "text/plain": [
              "  X PA_AUTORIZ    PA_CMP PA_MVM PA_CIDPRI PA_CIDSEC PA_PROC_ID PA_QTDAPR\n",
              "1 1 5223202118596 202311 202311 K500      0         604380054  0        \n",
              "2 2 5223202126538 202311 202311 K500      0         604380054  0        \n",
              "3 3 5223202127605 202311 202311 K508      0         604380119  5        \n",
              "4 4 5223202149209 202311 202311 K500      0         604380119  0        \n",
              "5 5 5223202150782 202311 202311 K508      0         604380054  0        \n",
              "6 6 5223202151508 202311 202311 K500      0         604380119  3        \n",
              "  PA_SEXO PA_IDADE PA_MUNPCN uf_processamento AP_CNSPCN       ano \n",
              "1 M       38       521850    GO               100008039594104 2023\n",
              "2 M       42       521880    GO               109706638936091 2023\n",
              "3 M       27       520860    GO               105206489989080 2023\n",
              "4 M       44       520410    GO               100703884038076 2023\n",
              "5 M       23       520870    GO               383007395806405 2023\n",
              "6 M       16       520110    GO               102900033460229 2023"
            ]
          },
          "metadata": {}
        }
      ]
    },
    {
      "cell_type": "markdown",
      "source": [
        "Uma sigla foi atribuída para cada código de medicamento extraído do SIGTAP."
      ],
      "metadata": {
        "id": "FNUE-2eMSNAs"
      }
    },
    {
      "cell_type": "code",
      "source": [
        "#=================[COLUNA MEDICAMENTO]========\n",
        "\n",
        "paam_atendimento$medicamento=\"\"\n",
        "paam_atendimento$medicamento[paam_atendimento$PA_PROC_ID == '604380127'] <- 'ADA'\n",
        "paam_atendimento$medicamento[paam_atendimento$PA_PROC_ID == '604380011'] <- 'ADA'\n",
        "paam_atendimento$medicamento[paam_atendimento$PA_PROC_ID == '604380135'] <- 'ADA'\n",
        "paam_atendimento$medicamento[paam_atendimento$PA_PROC_ID == '604380070'] <- 'CER'\n",
        "paam_atendimento$medicamento[paam_atendimento$PA_PROC_ID == '604380119'] <- 'INF'\n",
        "paam_atendimento$medicamento[paam_atendimento$PA_PROC_ID == '604380046'] <- 'INF'\n",
        "paam_atendimento$medicamento[paam_atendimento$PA_PROC_ID == '604380054'] <- 'INF'\n",
        "\n",
        "head(paam_atendimento)\n",
        "\n",
        "#============================================"
      ],
      "metadata": {
        "colab": {
          "base_uri": "https://localhost:8080/",
          "height": 286
        },
        "id": "o6NQJQw9YbV3",
        "outputId": "68783cff-c735-45ca-8d71-67a2c0261a78"
      },
      "execution_count": null,
      "outputs": [
        {
          "output_type": "display_data",
          "data": {
            "text/html": [
              "<table class=\"dataframe\">\n",
              "<caption>A data.frame: 6 × 15</caption>\n",
              "<thead>\n",
              "\t<tr><th></th><th scope=col>X</th><th scope=col>PA_AUTORIZ</th><th scope=col>PA_CMP</th><th scope=col>PA_MVM</th><th scope=col>PA_CIDPRI</th><th scope=col>PA_CIDSEC</th><th scope=col>PA_PROC_ID</th><th scope=col>PA_QTDAPR</th><th scope=col>PA_SEXO</th><th scope=col>PA_IDADE</th><th scope=col>PA_MUNPCN</th><th scope=col>uf_processamento</th><th scope=col>AP_CNSPCN</th><th scope=col>ano</th><th scope=col>medicamento</th></tr>\n",
              "\t<tr><th></th><th scope=col>&lt;int&gt;</th><th scope=col>&lt;dbl&gt;</th><th scope=col>&lt;int&gt;</th><th scope=col>&lt;int&gt;</th><th scope=col>&lt;chr&gt;</th><th scope=col>&lt;int&gt;</th><th scope=col>&lt;int&gt;</th><th scope=col>&lt;int&gt;</th><th scope=col>&lt;chr&gt;</th><th scope=col>&lt;int&gt;</th><th scope=col>&lt;int&gt;</th><th scope=col>&lt;chr&gt;</th><th scope=col>&lt;dbl&gt;</th><th scope=col>&lt;chr&gt;</th><th scope=col>&lt;chr&gt;</th></tr>\n",
              "</thead>\n",
              "<tbody>\n",
              "\t<tr><th scope=row>1</th><td>1</td><td>5223202118596</td><td>202311</td><td>202311</td><td>K500</td><td>0</td><td>604380054</td><td>0</td><td>M</td><td>38</td><td>521850</td><td>GO</td><td>100008039594104</td><td>2023</td><td>INF</td></tr>\n",
              "\t<tr><th scope=row>2</th><td>2</td><td>5223202126538</td><td>202311</td><td>202311</td><td>K500</td><td>0</td><td>604380054</td><td>0</td><td>M</td><td>42</td><td>521880</td><td>GO</td><td>109706638936091</td><td>2023</td><td>INF</td></tr>\n",
              "\t<tr><th scope=row>3</th><td>3</td><td>5223202127605</td><td>202311</td><td>202311</td><td>K508</td><td>0</td><td>604380119</td><td>5</td><td>M</td><td>27</td><td>520860</td><td>GO</td><td>105206489989080</td><td>2023</td><td>INF</td></tr>\n",
              "\t<tr><th scope=row>4</th><td>4</td><td>5223202149209</td><td>202311</td><td>202311</td><td>K500</td><td>0</td><td>604380119</td><td>0</td><td>M</td><td>44</td><td>520410</td><td>GO</td><td>100703884038076</td><td>2023</td><td>INF</td></tr>\n",
              "\t<tr><th scope=row>5</th><td>5</td><td>5223202150782</td><td>202311</td><td>202311</td><td>K508</td><td>0</td><td>604380054</td><td>0</td><td>M</td><td>23</td><td>520870</td><td>GO</td><td>383007395806405</td><td>2023</td><td>INF</td></tr>\n",
              "\t<tr><th scope=row>6</th><td>6</td><td>5223202151508</td><td>202311</td><td>202311</td><td>K500</td><td>0</td><td>604380119</td><td>3</td><td>M</td><td>16</td><td>520110</td><td>GO</td><td>102900033460229</td><td>2023</td><td>INF</td></tr>\n",
              "</tbody>\n",
              "</table>\n"
            ],
            "text/markdown": "\nA data.frame: 6 × 15\n\n| <!--/--> | X &lt;int&gt; | PA_AUTORIZ &lt;dbl&gt; | PA_CMP &lt;int&gt; | PA_MVM &lt;int&gt; | PA_CIDPRI &lt;chr&gt; | PA_CIDSEC &lt;int&gt; | PA_PROC_ID &lt;int&gt; | PA_QTDAPR &lt;int&gt; | PA_SEXO &lt;chr&gt; | PA_IDADE &lt;int&gt; | PA_MUNPCN &lt;int&gt; | uf_processamento &lt;chr&gt; | AP_CNSPCN &lt;dbl&gt; | ano &lt;chr&gt; | medicamento &lt;chr&gt; |\n|---|---|---|---|---|---|---|---|---|---|---|---|---|---|---|---|\n| 1 | 1 | 5223202118596 | 202311 | 202311 | K500 | 0 | 604380054 | 0 | M | 38 | 521850 | GO | 100008039594104 | 2023 | INF |\n| 2 | 2 | 5223202126538 | 202311 | 202311 | K500 | 0 | 604380054 | 0 | M | 42 | 521880 | GO | 109706638936091 | 2023 | INF |\n| 3 | 3 | 5223202127605 | 202311 | 202311 | K508 | 0 | 604380119 | 5 | M | 27 | 520860 | GO | 105206489989080 | 2023 | INF |\n| 4 | 4 | 5223202149209 | 202311 | 202311 | K500 | 0 | 604380119 | 0 | M | 44 | 520410 | GO | 100703884038076 | 2023 | INF |\n| 5 | 5 | 5223202150782 | 202311 | 202311 | K508 | 0 | 604380054 | 0 | M | 23 | 520870 | GO | 383007395806405 | 2023 | INF |\n| 6 | 6 | 5223202151508 | 202311 | 202311 | K500 | 0 | 604380119 | 3 | M | 16 | 520110 | GO | 102900033460229 | 2023 | INF |\n\n",
            "text/latex": "A data.frame: 6 × 15\n\\begin{tabular}{r|lllllllllllllll}\n  & X & PA\\_AUTORIZ & PA\\_CMP & PA\\_MVM & PA\\_CIDPRI & PA\\_CIDSEC & PA\\_PROC\\_ID & PA\\_QTDAPR & PA\\_SEXO & PA\\_IDADE & PA\\_MUNPCN & uf\\_processamento & AP\\_CNSPCN & ano & medicamento\\\\\n  & <int> & <dbl> & <int> & <int> & <chr> & <int> & <int> & <int> & <chr> & <int> & <int> & <chr> & <dbl> & <chr> & <chr>\\\\\n\\hline\n\t1 & 1 & 5223202118596 & 202311 & 202311 & K500 & 0 & 604380054 & 0 & M & 38 & 521850 & GO & 100008039594104 & 2023 & INF\\\\\n\t2 & 2 & 5223202126538 & 202311 & 202311 & K500 & 0 & 604380054 & 0 & M & 42 & 521880 & GO & 109706638936091 & 2023 & INF\\\\\n\t3 & 3 & 5223202127605 & 202311 & 202311 & K508 & 0 & 604380119 & 5 & M & 27 & 520860 & GO & 105206489989080 & 2023 & INF\\\\\n\t4 & 4 & 5223202149209 & 202311 & 202311 & K500 & 0 & 604380119 & 0 & M & 44 & 520410 & GO & 100703884038076 & 2023 & INF\\\\\n\t5 & 5 & 5223202150782 & 202311 & 202311 & K508 & 0 & 604380054 & 0 & M & 23 & 520870 & GO & 383007395806405 & 2023 & INF\\\\\n\t6 & 6 & 5223202151508 & 202311 & 202311 & K500 & 0 & 604380119 & 3 & M & 16 & 520110 & GO & 102900033460229 & 2023 & INF\\\\\n\\end{tabular}\n",
            "text/plain": [
              "  X PA_AUTORIZ    PA_CMP PA_MVM PA_CIDPRI PA_CIDSEC PA_PROC_ID PA_QTDAPR\n",
              "1 1 5223202118596 202311 202311 K500      0         604380054  0        \n",
              "2 2 5223202126538 202311 202311 K500      0         604380054  0        \n",
              "3 3 5223202127605 202311 202311 K508      0         604380119  5        \n",
              "4 4 5223202149209 202311 202311 K500      0         604380119  0        \n",
              "5 5 5223202150782 202311 202311 K508      0         604380054  0        \n",
              "6 6 5223202151508 202311 202311 K500      0         604380119  3        \n",
              "  PA_SEXO PA_IDADE PA_MUNPCN uf_processamento AP_CNSPCN       ano  medicamento\n",
              "1 M       38       521850    GO               100008039594104 2023 INF        \n",
              "2 M       42       521880    GO               109706638936091 2023 INF        \n",
              "3 M       27       520860    GO               105206489989080 2023 INF        \n",
              "4 M       44       520410    GO               100703884038076 2023 INF        \n",
              "5 M       23       520870    GO               383007395806405 2023 INF        \n",
              "6 M       16       520110    GO               102900033460229 2023 INF        "
            ]
          },
          "metadata": {}
        }
      ]
    },
    {
      "cell_type": "markdown",
      "source": [
        "A tabela foi carregada na variável paam_atendimento, na qual cada linha representa um atendimento. É necessário extrair o ano do mês de competência **PA_CMP** em função do procedimento **SIGTAP PA_PROC_ID**, somando a quantidade aprovada **PA_QTDAPR** e contando o número de usuários distintos **AP_CNSPCN**."
      ],
      "metadata": {
        "id": "npNIqle1SwqX"
      }
    },
    {
      "cell_type": "code",
      "source": [
        "#=================[QUANTIDADE APROVADA]======\n",
        "\n",
        "quantidade=aggregate(\n",
        "  PA_QTDAPR ~ ano + medicamento,\n",
        "  data = paam_atendimento,\n",
        "  FUN = sum,\n",
        "  na.rm = TRUE\n",
        "  )\n",
        "head(quantidade,20)\n",
        "\n",
        "#============================================"
      ],
      "metadata": {
        "colab": {
          "base_uri": "https://localhost:8080/",
          "height": 192
        },
        "id": "6RZylxq4YzMG",
        "outputId": "0d5c958b-7805-4c80-e2cf-1ece61c5dfdb"
      },
      "execution_count": null,
      "outputs": [
        {
          "output_type": "display_data",
          "data": {
            "text/html": [
              "<table class=\"dataframe\">\n",
              "<caption>A data.frame: 3 × 3</caption>\n",
              "<thead>\n",
              "\t<tr><th></th><th scope=col>ano</th><th scope=col>medicamento</th><th scope=col>PA_QTDAPR</th></tr>\n",
              "\t<tr><th></th><th scope=col>&lt;chr&gt;</th><th scope=col>&lt;chr&gt;</th><th scope=col>&lt;int&gt;</th></tr>\n",
              "</thead>\n",
              "<tbody>\n",
              "\t<tr><th scope=row>1</th><td>2023</td><td>ADA</td><td>   0</td></tr>\n",
              "\t<tr><th scope=row>2</th><td>2023</td><td>CER</td><td>  46</td></tr>\n",
              "\t<tr><th scope=row>3</th><td>2023</td><td>INF</td><td>1672</td></tr>\n",
              "</tbody>\n",
              "</table>\n"
            ],
            "text/markdown": "\nA data.frame: 3 × 3\n\n| <!--/--> | ano &lt;chr&gt; | medicamento &lt;chr&gt; | PA_QTDAPR &lt;int&gt; |\n|---|---|---|---|\n| 1 | 2023 | ADA |    0 |\n| 2 | 2023 | CER |   46 |\n| 3 | 2023 | INF | 1672 |\n\n",
            "text/latex": "A data.frame: 3 × 3\n\\begin{tabular}{r|lll}\n  & ano & medicamento & PA\\_QTDAPR\\\\\n  & <chr> & <chr> & <int>\\\\\n\\hline\n\t1 & 2023 & ADA &    0\\\\\n\t2 & 2023 & CER &   46\\\\\n\t3 & 2023 & INF & 1672\\\\\n\\end{tabular}\n",
            "text/plain": [
              "  ano  medicamento PA_QTDAPR\n",
              "1 2023 ADA            0     \n",
              "2 2023 CER           46     \n",
              "3 2023 INF         1672     "
            ]
          },
          "metadata": {}
        }
      ]
    },
    {
      "cell_type": "code",
      "source": [
        "#=================[USUÁRIOS DISTINTOS]=======\n",
        "\n",
        "usuarios=aggregate(\n",
        "  AP_CNSPCN ~ ano + medicamento,\n",
        "  data = paam_atendimento,\n",
        "  function(x) length(unique(x))\n",
        "  )\n",
        "head(usuarios,20)\n",
        "\n",
        "#============================================"
      ],
      "metadata": {
        "colab": {
          "base_uri": "https://localhost:8080/",
          "height": 192
        },
        "id": "RheNc5rYZD07",
        "outputId": "83349e29-77a6-4535-fee3-c1eefcb12fa6"
      },
      "execution_count": null,
      "outputs": [
        {
          "output_type": "display_data",
          "data": {
            "text/html": [
              "<table class=\"dataframe\">\n",
              "<caption>A data.frame: 3 × 3</caption>\n",
              "<thead>\n",
              "\t<tr><th></th><th scope=col>ano</th><th scope=col>medicamento</th><th scope=col>AP_CNSPCN</th></tr>\n",
              "\t<tr><th></th><th scope=col>&lt;chr&gt;</th><th scope=col>&lt;chr&gt;</th><th scope=col>&lt;int&gt;</th></tr>\n",
              "</thead>\n",
              "<tbody>\n",
              "\t<tr><th scope=row>1</th><td>2023</td><td>ADA</td><td>  1</td></tr>\n",
              "\t<tr><th scope=row>2</th><td>2023</td><td>CER</td><td> 11</td></tr>\n",
              "\t<tr><th scope=row>3</th><td>2023</td><td>INF</td><td>280</td></tr>\n",
              "</tbody>\n",
              "</table>\n"
            ],
            "text/markdown": "\nA data.frame: 3 × 3\n\n| <!--/--> | ano &lt;chr&gt; | medicamento &lt;chr&gt; | AP_CNSPCN &lt;int&gt; |\n|---|---|---|---|\n| 1 | 2023 | ADA |   1 |\n| 2 | 2023 | CER |  11 |\n| 3 | 2023 | INF | 280 |\n\n",
            "text/latex": "A data.frame: 3 × 3\n\\begin{tabular}{r|lll}\n  & ano & medicamento & AP\\_CNSPCN\\\\\n  & <chr> & <chr> & <int>\\\\\n\\hline\n\t1 & 2023 & ADA &   1\\\\\n\t2 & 2023 & CER &  11\\\\\n\t3 & 2023 & INF & 280\\\\\n\\end{tabular}\n",
            "text/plain": [
              "  ano  medicamento AP_CNSPCN\n",
              "1 2023 ADA           1      \n",
              "2 2023 CER          11      \n",
              "3 2023 INF         280      "
            ]
          },
          "metadata": {}
        }
      ]
    },
    {
      "cell_type": "code",
      "source": [
        "#=================[USUÁRIOS+MEDICAMENTOS]====\n",
        "\n",
        "paam_anual = merge(\n",
        "  usuarios, quantidade,\n",
        "  by.x=c(\"ano\",\"medicamento\"),\n",
        "  by.y=c(\"ano\",\"medicamento\"),\n",
        "  all.x = TRUE\n",
        "  )\n",
        "paam_anual\n",
        "\n",
        "#============================================"
      ],
      "metadata": {
        "colab": {
          "base_uri": "https://localhost:8080/",
          "height": 192
        },
        "id": "MwZBafARZK2C",
        "outputId": "6fd1f6cc-d126-4201-91b0-cc1428fa994b"
      },
      "execution_count": null,
      "outputs": [
        {
          "output_type": "display_data",
          "data": {
            "text/html": [
              "<table class=\"dataframe\">\n",
              "<caption>A data.frame: 3 × 4</caption>\n",
              "<thead>\n",
              "\t<tr><th scope=col>ano</th><th scope=col>medicamento</th><th scope=col>AP_CNSPCN</th><th scope=col>PA_QTDAPR</th></tr>\n",
              "\t<tr><th scope=col>&lt;chr&gt;</th><th scope=col>&lt;chr&gt;</th><th scope=col>&lt;int&gt;</th><th scope=col>&lt;int&gt;</th></tr>\n",
              "</thead>\n",
              "<tbody>\n",
              "\t<tr><td>2023</td><td>ADA</td><td>  1</td><td>   0</td></tr>\n",
              "\t<tr><td>2023</td><td>CER</td><td> 11</td><td>  46</td></tr>\n",
              "\t<tr><td>2023</td><td>INF</td><td>280</td><td>1672</td></tr>\n",
              "</tbody>\n",
              "</table>\n"
            ],
            "text/markdown": "\nA data.frame: 3 × 4\n\n| ano &lt;chr&gt; | medicamento &lt;chr&gt; | AP_CNSPCN &lt;int&gt; | PA_QTDAPR &lt;int&gt; |\n|---|---|---|---|\n| 2023 | ADA |   1 |    0 |\n| 2023 | CER |  11 |   46 |\n| 2023 | INF | 280 | 1672 |\n\n",
            "text/latex": "A data.frame: 3 × 4\n\\begin{tabular}{llll}\n ano & medicamento & AP\\_CNSPCN & PA\\_QTDAPR\\\\\n <chr> & <chr> & <int> & <int>\\\\\n\\hline\n\t 2023 & ADA &   1 &    0\\\\\n\t 2023 & CER &  11 &   46\\\\\n\t 2023 & INF & 280 & 1672\\\\\n\\end{tabular}\n",
            "text/plain": [
              "  ano  medicamento AP_CNSPCN PA_QTDAPR\n",
              "1 2023 ADA           1          0     \n",
              "2 2023 CER          11         46     \n",
              "3 2023 INF         280       1672     "
            ]
          },
          "metadata": {}
        }
      ]
    },
    {
      "cell_type": "markdown",
      "source": [
        "### Cálculo do custo dos medicamentos\n",
        "\n",
        "Uma tabela secundária com os valores unitários dos medicamentos pré-selecionados foi incluída. Os valores foram obtidos do [Banco de Preços em Saúde](https://www.gov.br/saude/pt-br/acesso-a-informacao/banco-de-precos). Com isso, foi possível multiplicar o valor médio unitário pela quantidade aprovada **PA_QTDAPR**."
      ],
      "metadata": {
        "id": "9WnWndEOS-vO"
      }
    },
    {
      "cell_type": "code",
      "source": [
        "#=================[CSV VALOR UNITÁRIO]=======\n",
        "\n",
        "valor=read_csv(\"https://raw.githubusercontent.com/victorcords/info-siasus/main/bps_2018_2023/bps_valor_unitario.csv\")\n",
        "valor\n",
        "\n",
        "#============================================"
      ],
      "metadata": {
        "id": "6Mw5TuyxltDy"
      },
      "execution_count": null,
      "outputs": []
    },
    {
      "cell_type": "markdown",
      "source": [
        "Após isso, os valores atribuídos foram associados com os dados de mundo real."
      ],
      "metadata": {
        "id": "XTaMTeDkTsjn"
      }
    },
    {
      "cell_type": "code",
      "source": [
        "#=================[VALOR+DIFUSÃO]============\n",
        "\n",
        "valor=read_csv(\"https://raw.githubusercontent.com/victorcords/info-siasus/main/bps_2018_2023/bps_valor_unitario_tranposto.csv\")\n",
        "\n",
        "paam_anual_valor = merge(\n",
        "        paam_anual, valor,\n",
        "        by.x=c(\"ano\",\"medicamento\"),\n",
        "        by.y=c(\"ano\",\"medicamento\"),\n",
        "        all.x = TRUE\n",
        "      )\n",
        "\n",
        "# Percentual de difusão ao ano do número de usuários\n",
        "\n",
        "paam_anual_valor=transform(paam_anual_valor, usuario_perc = ave(AP_CNSPCN, ano, FUN = prop.table))\n",
        "paam_anual_valor$usuario_perc=round(paam_anual_valor$usuario_perc*100,1)\n",
        "\n",
        "# Produto entre total aprovado e valor unitário\n",
        "\n",
        "paam_anual_valor$total=round(paam_anual_valor$PA_QTDAPR*paam_anual_valor$unidade)\n",
        "\n",
        "# Percentual de difusão ao ano do total\n",
        "\n",
        "paam_anual_valor=transform(paam_anual_valor, total_perc = ave(total, ano, FUN = prop.table))\n",
        "paam_anual_valor$total_perc=round(paam_anual_valor$total_perc*100,1)\n",
        "\n",
        "paam_anual_valor$unidade=round(paam_anual_valor$unidade,2)\n",
        "\n",
        "paam_anual_valor\n",
        "\n",
        "#============================================"
      ],
      "metadata": {
        "id": "cHXzfs9WT1ne"
      },
      "execution_count": null,
      "outputs": []
    },
    {
      "cell_type": "markdown",
      "source": [
        "### Cálculo da difusão de uso\n",
        "\n",
        "Vamos explorar visualmente a difusão do percentual de uso com `ggplot`."
      ],
      "metadata": {
        "id": "82Ej38zpdGHQ"
      }
    },
    {
      "cell_type": "code",
      "source": [
        "#=================[GRÁFICO DIFUSÃO]============\n",
        "\n",
        "ggplot(\n",
        "  paam_anual_valor,\n",
        "  aes(\n",
        "    fill = medicamento,\n",
        "    y = usuario_perc,\n",
        "    x = ano,\n",
        "    label = usuario_perc\n",
        "  )\n",
        ") + geom_bar(stat = \"identity\") +\n",
        "  xlab('ano') +\n",
        "  ylab('usuarios (%)') +\n",
        "  geom_text(size = 3, position = position_stack(vjust = 0.5)) +\n",
        "  coord_flip() +\n",
        "  theme(\n",
        "    legend.text = element_text(size = rel(1.3)),\n",
        "    axis.title.x = element_text(size = rel(1.3)),\n",
        "    axis.title.y = element_text(size = rel(1.3)),\n",
        "    axis.text.x = element_text(size = rel(1.3)),\n",
        "    axis.text.y = element_text(size = rel(1.3))\n",
        "    )\n",
        "\n",
        "#============================================"
      ],
      "metadata": {
        "id": "S1QGP61mdLwb"
      },
      "execution_count": null,
      "outputs": []
    },
    {
      "cell_type": "markdown",
      "source": [
        "Além disso, também é possível calcular o valor mensal total gasto com as medicações."
      ],
      "metadata": {
        "id": "xT0bBfAHhVjn"
      }
    },
    {
      "cell_type": "code",
      "source": [
        "#=================[VALOR MENSAL]=============\n",
        "\n",
        "paam_mensal_valor = merge(\n",
        "  paam_atendimento, valor,\n",
        "  by.x=c(\"ano\",\"medicamento\"),\n",
        "  by.y=c(\"ano\",\"medicamento\"),\n",
        "  all.x = TRUE\n",
        "  )\n",
        "\n",
        "# Produto entre total aprovado e valor unitário\n",
        "\n",
        "paam_mensal_valor$total=round(paam_mensal_valor$PA_QTDAPR*paam_mensal_valor$unidade)\n",
        "total=aggregate(\n",
        "  total ~ PA_CMP + medicamento,\n",
        "  data = subset(\n",
        "    paam_mensal_valor,\n",
        "    medicamento == 'INF'\n",
        "    ),\n",
        "  FUN = sum,\n",
        "  na.rm = TRUE\n",
        "  )\n",
        "\n",
        "head(total,20)\n",
        "\n",
        "#============================================"
      ],
      "metadata": {
        "id": "vfo0Sml0hTUA"
      },
      "execution_count": null,
      "outputs": []
    },
    {
      "cell_type": "markdown",
      "source": [
        "Os dados de mundo real obtidos podem ser processados com técnicas de regressão ou séries temporais. O método ARIMA permite afinar o modelo especificando ordens de autoregressão, diferenciamento e média móvel, bem como contrapartidas sazonais a esses componentes.\n",
        "\n",
        "Foi realizado o método ARIMA para variável **total**."
      ],
      "metadata": {
        "id": "JujkwabO2NrY"
      }
    },
    {
      "cell_type": "code",
      "source": [
        "#=================[ARIMA]====================\n",
        "\n",
        "arima_data=forecast(auto.arima(\n",
        "    total$total,\n",
        "    allowmean = TRUE\n",
        "  ), h = 60)\n",
        "\n",
        "# Projeção para o valor total (R$)\n",
        "\n",
        "plot(\n",
        "  arima_data,\n",
        "  xlab = \"\",\n",
        "  ylab = \"Total (R$)\",\n",
        "  main = \"\",\n",
        "  las = 3  ,\n",
        "  xaxt = 'n'\n",
        ")\n",
        "\n",
        "axis(1,\n",
        "     at = 1:(nrow(total)+61),\n",
        "     labels = 1:(nrow(total)+61),\n",
        "     las = 3)\n",
        "\n",
        "arima_data=as.data.frame(arima_data)\n",
        "colnames(arima_data)=c(\"previsão\",\"min80\",\"min95\",\"max80\",\"max95\")\n",
        "tail(arima_data,60)\n",
        "\n",
        "#============================================"
      ],
      "metadata": {
        "id": "MLsO3PQ-1oH3"
      },
      "execution_count": null,
      "outputs": []
    },
    {
      "cell_type": "markdown",
      "source": [
        "E também, foi realizado o método ARIMA para variável **usuários**, filtrado pelo medicamento \"INF\"."
      ],
      "metadata": {
        "id": "iE6lpLOw3B9A"
      }
    },
    {
      "cell_type": "code",
      "source": [
        "#=================[ARIMA]====================\n",
        "\n",
        "usuarios=aggregate(\n",
        "  AP_CNSPCN ~ PA_CMP + medicamento,\n",
        "  data = subset(\n",
        "      paam_atendimento,\n",
        "      medicamento == 'INF'\n",
        "    ),\n",
        "  function(x) length(unique(x))\n",
        ")\n",
        "tail(usuarios,20)\n",
        "\n",
        "arima_data=forecast(auto.arima(\n",
        "    usuarios$AP_CNSPCN,\n",
        "    allowmean = TRUE\n",
        "  ), h = 60)\n",
        "\n",
        "# Projeção para o número de usuários filtrados pela variável medicamento\n",
        "\n",
        "plot(\n",
        "  arima_data,\n",
        "  xlab = \"\",\n",
        "  ylab = \"Usuários\",\n",
        "  main = \"\",\n",
        "  las = 3  ,\n",
        "  xaxt = 'n'\n",
        ")\n",
        "\n",
        "axis(1,\n",
        "     at = 1:(nrow(total)+61),\n",
        "     labels = 1:(nrow(total)+61),\n",
        "     las = 3)\n",
        "\n",
        "arima_data=as.data.frame(arima_data)\n",
        "colnames(arima_data)=c(\"previsão\",\"min80\",\"min95\",\"max80\",\"max95\")\n",
        "tail(arima_data,60)\n",
        "\n",
        "#============================================"
      ],
      "metadata": {
        "id": "iiBG3EAJ1_U3"
      },
      "execution_count": null,
      "outputs": []
    },
    {
      "cell_type": "markdown",
      "source": [
        "## Referências\n",
        "\n",
        "CAROLINA ANDRADE OLIVEIRA DIBAI; JULIANA ALVARES-TEODORO; FELIPE FERRÉ; MARIANO RUAS, C. Avaliação da eficiência na aquisição e distribuição de medicamentos do Componente Básico da Assistência Farmacêutica. JORNAL DE ASSISTÊNCIA FARMACÊUTICA E FARMACOECONOMIA, [S. l.], v. 8, n. 4, 2023. DOI: 10.22563/2525-7323.2023.v8.n.4.p.23-36. Disponível em: https://ojs.jaff.org.br/ojs/index.php/jaff/article/view/642. Acesso em: 23 mai. 2024.\n",
        "\n",
        "FERRÉ, F. Produto 3 - Relatório técnico contendo análise da projeção do quantitativo de usuários, unidades dispensadas e valor gasto apresentados na sala de situação aberta de medicamentos biológicos cujo acesso é regulado por PCDT. Brasil: RStudio/RPubs, 2022. Disponível em: <https://rpubs.com/labxss/858478>. Acesso em: 23 mai. 2024.\n",
        "\n",
        "FERRÉ, F.; DE OLIVEIRA, G.; DE QUEIROZ, M.; GONÇALVES, F.. Sala de Situação aberta com dados administrativos para gestão de Protocolos Clínicos e Diretrizes Terapêuticas de tecnologias providas pelo SUS. In: SIMPÓSIO BRASILEIRO DE COMPUTAÇÃO APLICADA À SAÚDE (SBCAS), 20. , 2020, Evento Online. Anais [...]. Porto Alegre: Sociedade Brasileira de Computação, 2020 . p. 392-403. ISSN 2763-8952. DOI: https://doi.org/10.5753/sbcas.2020.11530.\n",
        "\n",
        "FERRÉ, F. Curso de linguagem R com dados do SUS. Disponível em: <https://github.com/labxss/curso_r>. Acesso em: 23 mai. 2024.\n",
        "\n",
        "FERRÉ, F. Sala Aberta de Inteligência em Saúde - Protocolos Clínicos e Diretrizes Terapêuticas. Disponível em: <https://github.com/labxss/sabeis_pcdt>. Acesso em: 21 mai. 2024.\n",
        "\n",
        "\n",
        "SALDANHA, R. DE F.; BASTOS, R. R.; BARCELLOS, C.. Microdatasus: pacote para download e pré-processamento de microdados do Departamento de Informática do SUS (DATASUS). Cadernos de Saúde Pública, v. 35, n. 9, p. e00032419, 2019."
      ],
      "metadata": {
        "id": "SfqlSQMk8llo"
      }
    }
  ]
}